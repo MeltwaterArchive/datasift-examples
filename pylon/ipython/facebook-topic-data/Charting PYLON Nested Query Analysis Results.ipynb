{
 "cells": [
  {
   "cell_type": "markdown",
   "metadata": {},
   "source": [
    "# Charting PYLON Nested Query Analysis Results\n",
    "\n",
    "When you perform analysis with PYLON you receive aggregated results from the API. \n",
    "\n",
    "We carry out much of work with PYLON in iPython as by its nature the results is a documented workflow that can be easily shared.\n",
    "\n",
    "In this notebook we'll take a look at how you can use common Python libraries to chart analysis results from **nested queries**.\n",
    "\n",
    "## Assumed knowledge\n",
    "\n",
    "We won't explain all the basics of charting in this notebook. To get started with charting analysis results see [Charting PYLON Analysis Results](Charting PYLON Analysis Results.ipynb)."
   ]
  },
  {
   "cell_type": "markdown",
   "metadata": {},
   "source": [
    "## Environment\n",
    "\n",
    "To create this notebook we used:\n",
    "\n",
    "* Python 2.7.6\n",
    "* iPython 4.0.0\n",
    "* pandas\n",
    "* [DataSift client library](http://dev.datasift.com/tools/client-libraries)\n",
    "\n",
    "The best way to install the above requirements is using [Anaconda](https://www.continuum.io/downloads). Anaconda provides a tested installation bundle including most popular Python packages."
   ]
  },
  {
   "cell_type": "markdown",
   "metadata": {},
   "source": [
    "## Charting nested query results\n",
    "\n",
    "Firstly for the sake of this example we'll first parse an example API response for a nested query. This will give us a dictionary structure the same as we'd receive from the client library when using the API."
   ]
  },
  {
   "cell_type": "code",
   "execution_count": 1,
   "metadata": {
    "collapsed": false
   },
   "outputs": [],
   "source": [
    "import json \n",
    "\n",
    "nested_api_result = '''{\n",
    "    \"unique_authors\": 556400, \n",
    "    \"analysis\": {\n",
    "        \"analysis_type\": \"freqDist\", \n",
    "        \"redacted\": false, \n",
    "        \"results\": [\n",
    "            {\n",
    "                \"child\": {\n",
    "                    \"analysis_type\": \"freqDist\", \n",
    "                    \"redacted\": false, \n",
    "                    \"results\": [\n",
    "                        {\n",
    "                            \"unique_authors\": 124500, \n",
    "                            \"key\": \"18-24\", \n",
    "                            \"interactions\": 151900\n",
    "                        }, \n",
    "                        {\n",
    "                            \"unique_authors\": 124200, \n",
    "                            \"key\": \"25-34\", \n",
    "                            \"interactions\": 146200\n",
    "                        }, \n",
    "                        {\n",
    "                            \"unique_authors\": 76400, \n",
    "                            \"key\": \"35-44\", \n",
    "                            \"interactions\": 96000\n",
    "                        }, \n",
    "                        {\n",
    "                            \"unique_authors\": 43800, \n",
    "                            \"key\": \"45-54\", \n",
    "                            \"interactions\": 57400\n",
    "                        }, \n",
    "                        {\n",
    "                            \"unique_authors\": 19500, \n",
    "                            \"key\": \"55-64\", \n",
    "                            \"interactions\": 26400\n",
    "                        }\n",
    "                    ], \n",
    "                    \"parameters\": {\n",
    "                        \"threshold\": 5, \n",
    "                        \"target\": \"fb.author.age\"\n",
    "                    }\n",
    "                }, \n",
    "                \"unique_authors\": 404800, \n",
    "                \"key\": \"male\", \n",
    "                \"interactions\": 492000\n",
    "            }, \n",
    "            {\n",
    "                \"child\": {\n",
    "                    \"analysis_type\": \"freqDist\", \n",
    "                    \"redacted\": false, \n",
    "                    \"results\": [\n",
    "                        {\n",
    "                            \"unique_authors\": 34300, \n",
    "                            \"key\": \"25-34\", \n",
    "                            \"interactions\": 43200\n",
    "                        }, \n",
    "                        {\n",
    "                            \"unique_authors\": 31200, \n",
    "                            \"key\": \"35-44\", \n",
    "                            \"interactions\": 35600\n",
    "                        }, \n",
    "                        {\n",
    "                            \"unique_authors\": 31200, \n",
    "                            \"key\": \"18-24\", \n",
    "                            \"interactions\": 34800\n",
    "                        }, \n",
    "                        {\n",
    "                            \"unique_authors\": 21400, \n",
    "                            \"key\": \"45-54\", \n",
    "                            \"interactions\": 26400\n",
    "                        }, \n",
    "                        {\n",
    "                            \"unique_authors\": 12600, \n",
    "                            \"key\": \"55-64\", \n",
    "                            \"interactions\": 15500\n",
    "                        }\n",
    "                    ], \n",
    "                    \"parameters\": {\n",
    "                        \"threshold\": 5, \n",
    "                        \"target\": \"fb.author.age\"\n",
    "                    }\n",
    "                }, \n",
    "                \"unique_authors\": 141400, \n",
    "                \"key\": \"female\", \n",
    "                \"interactions\": 164500\n",
    "            }\n",
    "        ], \n",
    "        \"parameters\": {\n",
    "            \"threshold\": 2, \n",
    "            \"target\": \"fb.author.gender\"\n",
    "        }\n",
    "    }, \n",
    "    \"interactions\": 671300\n",
    "}'''\n",
    "\n",
    "nested_result = json.loads(nested_api_result)"
   ]
  },
  {
   "cell_type": "markdown",
   "metadata": {},
   "source": [
    "As usual, you'll first need to check the analysis has not been redacted before attempting to plot a chart.\n",
    "\n",
    "At this point you'll want to consider how you'd like to present your results. The example data represents a gender-age breakdown of an audience. In this case it makes sense to draw a chart for each gender.\n",
    "\n",
    "In the example code below we first setup a subplots, one for each gender. Next we iterate through the child analysis results. Here there is 2, one for each gender indicated by the 'key' field. Finally we draw each subplot based on the data in the child result just like we did above for the frequency distribution analysis.\n",
    "\n",
    "Notice that we sort the dataframe by its index before plotting to maintain the intuitive order of the age groups."
   ]
  },
  {
   "cell_type": "code",
   "execution_count": 2,
   "metadata": {
    "collapsed": false
   },
   "outputs": [
    {
     "name": "stdout",
     "output_type": "stream",
     "text": [
      "Populating the interactive namespace from numpy and matplotlib\n"
     ]
    },
    {
     "data": {
      "image/png": "[encoded data removed]",
      "text/plain": [
       "<matplotlib.figure.Figure at 0x10bb8d4d0>"
      ]
     },
     "metadata": {},
     "output_type": "display_data"
    }
   ],
   "source": [
    "# This causes charts to be drawn inline\n",
    "%pylab inline\n",
    "\n",
    "# Import pandas for data manipulation\n",
    "import pandas as pd\n",
    "\n",
    "# Check result is not redacted\n",
    "if not nested_result['analysis']['redacted']:\n",
    "\n",
    "    # Set up subplots, one for each gender\n",
    "    fig, axes = plt.subplots(nrows=1, ncols=2, figsize=(15,6))\n",
    "    \n",
    "    # Iterate through genders, drawing a subplot for each\n",
    "    for i, child in enumerate(nested_result['analysis']['results']):\n",
    "        \n",
    "        nested_df = pd.DataFrame.from_records(child['child']['results'],index='key')\n",
    "        \n",
    "        # Plot the chart, first sorting by the age groups in the index\n",
    "        nested_df.sort_index().plot(kind='barh', ax=axes[i], title=child['key'])"
   ]
  },
  {
   "cell_type": "markdown",
   "metadata": {},
   "source": [
    "## Charting results as a 'pyramid'\n",
    "\n",
    "Another visualization approach is to draw results as a 'pyramid'. This makes particularly good sense when comparing two groups such as male and female. You can draw the charts back-to-back for a clear visual reading.\n",
    "\n",
    "Instead of iterating the child results, in this example we:\n",
    "* Combine the results for male and female into one dataframe\n",
    "* Plot a chart for male and female, but reverse the female plot to create the pyramid shape\n",
    "* Find the max X value to normalise the two charts for easier comparison"
   ]
  },
  {
   "cell_type": "code",
   "execution_count": 3,
   "metadata": {
    "collapsed": false
   },
   "outputs": [
    {
     "data": {
      "image/png": "[encoded data removed]",
      "text/plain": [
       "<matplotlib.figure.Figure at 0x10f0f3a10>"
      ]
     },
     "metadata": {},
     "output_type": "display_data"
    }
   ],
   "source": [
    "from matplotlib import gridspec\n",
    "\n",
    "# Check result is not redacted\n",
    "if not nested_result['analysis']['redacted']:\n",
    "\n",
    "    # Build dataframe of results\n",
    "    df_male = pd.DataFrame.from_records(\n",
    "        nested_result['analysis']['results'][0]['child']['results'],index='key')\n",
    "    \n",
    "    df_female = pd.DataFrame.from_records(\n",
    "        nested_result['analysis']['results'][1]['child']['results'],index='key')\n",
    "    \n",
    "    df_pyramid = pd.concat([df_male, df_female], axis=1, keys=['male','female'])\n",
    "    \n",
    "    # Create layout for subplots\n",
    "    fig = plt.figure(figsize=(15,6))\n",
    "    gs = gridspec.GridSpec(1, 2, width_ratios=[1,1])\n",
    "    axes=map(plt.subplot,gs)\n",
    "    \n",
    "    # Plot charts\n",
    "    #  - Note that finding the max X value across results helps us normalize the charts, and\n",
    "    #  plot the female chart in reverse to create the pyramid shape\n",
    "    max_xlim=max(df_pyramid[('male', 'unique_authors')].max(),df_pyramid[('female', 'unique_authors')].max())\n",
    "    \n",
    "    female_subplot=df_pyramid[('female','unique_authors')].plot(kind='barh',ax=axes[0],color='pink',alpha=0.8)\n",
    "    female_subplot.set_xlim([max_xlim,0]) # This line 'reverses' the bars on the chart\n",
    "    \n",
    "    male_subplot=df_pyramid[('male', 'unique_authors')].plot(kind='barh',ax=axes[1],color='mediumblue',alpha=0.8)\n",
    "    male_subplot.set_xlim([0,max_xlim])\n",
    "    \n",
    "    # Tidy up axis labels for presentation\n",
    "    axes[0].set_xlabel('female authors')\n",
    "    axes[1].set_xlabel('male authors')\n",
    "    axes[1].set_ylabel('')\n",
    "    axes[1].set_yticklabels(['' for item in axes[1].get_yticklabels()]) \n",
    "    for i in (0,1):\n",
    "        for j in axes[i].xaxis.get_major_ticks():\n",
    "            j.label.set_rotation(30)"
   ]
  },
  {
   "cell_type": "markdown",
   "metadata": {},
   "source": [
    "# What next?\n",
    "\n",
    "Now you've learnt some further charting skills take a look at the other examples in this repository, such as:\n",
    "* [Charting PYLON Baselined Analysis Results](Charting PYLON Baselined Analysis Results.ipynb)"
   ]
  }
 ],
 "metadata": {
  "kernelspec": {
   "display_name": "Python 2",
   "language": "python",
   "name": "python2"
  },
  "language_info": {
   "codemirror_mode": {
    "name": "ipython",
    "version": 2
   },
   "file_extension": ".py",
   "mimetype": "text/x-python",
   "name": "python",
   "nbconvert_exporter": "python",
   "pygments_lexer": "ipython2",
   "version": "2.7.10"
  }
 },
 "nbformat": 4,
 "nbformat_minor": 0
}
