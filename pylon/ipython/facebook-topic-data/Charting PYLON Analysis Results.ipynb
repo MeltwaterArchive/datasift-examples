{
 "cells": [
  {
   "cell_type": "markdown",
   "metadata": {},
   "source": [
    "# Charting PYLON Analysis Results\n",
    "\n",
    "When you perform analysis with PYLON you receive aggregated results from the API. \n",
    "\n",
    "We carry out much of work with PYLON in iPython as by its nature the results is a documented workflow that can be easily shared.\n",
    "\n",
    "In this notebook we'll take a look at how you can use common Python libraries to chart analysis results."
   ]
  },
  {
   "cell_type": "markdown",
   "metadata": {},
   "source": [
    "## Environment\n",
    "\n",
    "To create this notebook we used:\n",
    "\n",
    "* Python 2.7.6\n",
    "* iPython 4.0.0\n",
    "* pandas\n",
    "* [DataSift client library](http://dev.datasift.com/tools/client-libraries)\n",
    "\n",
    "The best way to install the above requirements is using [Anaconda](https://www.continuum.io/downloads). Anaconda provides a tested installation bundle including most popular Python packages."
   ]
  },
  {
   "cell_type": "markdown",
   "metadata": {},
   "source": [
    "## Working with Python dictionaries\n",
    "\n",
    "When you perform analysis with PYLON your result will be returned from the API as JSON. The DataSift client library will parse the result into a dictionary for you.\n",
    "\n",
    "This code illustrates this for a time series analysis. Essentially when you're working with results you'll be working with a Python dictionary."
   ]
  },
  {
   "cell_type": "code",
   "execution_count": 1,
   "metadata": {
    "collapsed": false
   },
   "outputs": [
    {
     "name": "stdout",
     "output_type": "stream",
     "text": [
      "{u'analysis': {u'analysis_type': u'timeSeries', u'redacted': False, u'results': [{u'unique_authors': 259900, u'key': 1448496000, u'interactions': 312200}, {u'unique_authors': 414100, u'key': 1448582400, u'interactions': 539700}, {u'unique_authors': 475600, u'key': 1448668800, u'interactions': 578600}, {u'unique_authors': 439600, u'key': 1448755200, u'interactions': 561000}, {u'unique_authors': 495500, u'key': 1448841600, u'interactions': 588600}, {u'unique_authors': 496800, u'key': 1448928000, u'interactions': 608100}], u'parameters': {u'interval': u'day'}}, u'unique_authors': 2234300, u'interactions': 3188400}\n"
     ]
    }
   ],
   "source": [
    "import json\n",
    "\n",
    "ts_api_result = '''{\n",
    "    \"interactions\": 3188400,\n",
    "    \"unique_authors\": 2234300,\n",
    "    \"analysis\": {\n",
    "        \"analysis_type\": \"timeSeries\",\n",
    "        \"parameters\": {\n",
    "            \"interval\": \"day\"\n",
    "        },\n",
    "        \"results\": [\n",
    "            {\n",
    "                \"key\": 1448496000,\n",
    "                \"interactions\": 312200,\n",
    "                \"unique_authors\": 259900\n",
    "            },\n",
    "            {\n",
    "                \"key\": 1448582400,\n",
    "                \"interactions\": 539700,\n",
    "                \"unique_authors\": 414100\n",
    "            },\n",
    "            {\n",
    "                \"key\": 1448668800,\n",
    "                \"interactions\": 578600,\n",
    "                \"unique_authors\": 475600\n",
    "            },\n",
    "            {\n",
    "                \"key\": 1448755200,\n",
    "                \"interactions\": 561000,\n",
    "                \"unique_authors\": 439600\n",
    "            },\n",
    "            {\n",
    "                \"key\": 1448841600,\n",
    "                \"interactions\": 588600,\n",
    "                \"unique_authors\": 495500\n",
    "            },\n",
    "            {\n",
    "                \"key\": 1448928000,\n",
    "                \"interactions\": 608100,\n",
    "                \"unique_authors\": 496800\n",
    "            }\n",
    "        ],\n",
    "        \"redacted\": false\n",
    "    }\n",
    "}'''\n",
    "\n",
    "ts_result = json.loads(ts_api_result)\n",
    "\n",
    "print ts_result"
   ]
  },
  {
   "cell_type": "markdown",
   "metadata": {},
   "source": [
    "## Charting time series results\n",
    "\n",
    "So the result of a time series analysis will be returned as a dictionary. \n",
    "\n",
    "Before you plot a chart you'll first want to check that the entire analysis has not been **redacted** and your dictionary contains results. You can check this using the 'redacted' flag in the dictionary.\n",
    "\n",
    "Assuming you have results you'll net need to convert the results array into a Pandas dataframe. Use 'key' as the index value as this is the timestamp for each timeseries interval.\n",
    "\n",
    "To plot the chart we first sort the data in the dataframe, and then call plot. Pandas takes care of the rest. In this example we specify the size of the chart using 'figsize' but this is optional."
   ]
  },
  {
   "cell_type": "code",
   "execution_count": 2,
   "metadata": {
    "collapsed": false
   },
   "outputs": [
    {
     "name": "stdout",
     "output_type": "stream",
     "text": [
      "Populating the interactive namespace from numpy and matplotlib\n"
     ]
    },
    {
     "data": {
      "image/png": "[encoded data removed]",
      "text/plain": [
       "<matplotlib.figure.Figure at 0x10e81f490>"
      ]
     },
     "metadata": {},
     "output_type": "display_data"
    }
   ],
   "source": [
    "# This causes charts to be drawn inline\n",
    "%pylab inline\n",
    "\n",
    "# Import pandas for data manipulation\n",
    "import pandas as pd\n",
    "\n",
    "# Check result is not redacted\n",
    "if not ts_result['analysis']['redacted']:\n",
    "\n",
    "    # Extract result data to dataframe\n",
    "    ts_df = pd.DataFrame.from_records(ts_result['analysis']['results'],index='key')\n",
    "    \n",
    "    # Map the index labels to readable dates\n",
    "    ts_df.index=ts_df.index.map(datetime.datetime.fromtimestamp)\n",
    "    \n",
    "    # Sort the data and plot a chart\n",
    "    ts_df.sort().plot(figsize=(14,6))"
   ]
  },
  {
   "cell_type": "markdown",
   "metadata": {},
   "source": [
    "## Charting frequency distribution results"
   ]
  },
  {
   "cell_type": "markdown",
   "metadata": {},
   "source": [
    "Before we look at an example chart, let's first parse some example JSON returned from the API for a frequency distribution analysis into a dictionary."
   ]
  },
  {
   "cell_type": "code",
   "execution_count": 3,
   "metadata": {
    "collapsed": false
   },
   "outputs": [
    {
     "name": "stdout",
     "output_type": "stream",
     "text": [
      "{u'analysis': {u'analysis_type': u'freqDist', u'redacted': False, u'results': [{u'unique_authors': 781400, u'key': u'United States', u'interactions': 1121300}, {u'unique_authors': 204800, u'key': u'Brazil', u'interactions': 283100}, {u'unique_authors': 136700, u'key': u'Turkey', u'interactions': 181000}, {u'unique_authors': 128400, u'key': u'United Kingdom', u'interactions': 172800}, {u'unique_authors': 95000, u'key': u'Mexico', u'interactions': 151200}, {u'unique_authors': 84800, u'key': u'Germany', u'interactions': 122000}], u'parameters': {u'threshold': 6, u'target': u'fb.author.country'}}, u'unique_authors': 2234300, u'interactions': 3188400}\n"
     ]
    }
   ],
   "source": [
    "fd_api_result = '''{\n",
    "    \"interactions\": 3188400,\n",
    "    \"unique_authors\": 2234300,\n",
    "    \"analysis\": {\n",
    "        \"analysis_type\": \"freqDist\",\n",
    "        \"parameters\": {\n",
    "            \"target\": \"fb.author.country\",\n",
    "            \"threshold\": 6\n",
    "        },\n",
    "        \"results\": [\n",
    "            {\n",
    "                \"key\": \"United States\",\n",
    "                \"interactions\": 1121300,\n",
    "                \"unique_authors\": 781400\n",
    "            },\n",
    "            {\n",
    "                \"key\": \"Brazil\",\n",
    "                \"interactions\": 283100,\n",
    "                \"unique_authors\": 204800\n",
    "            },\n",
    "            {\n",
    "                \"key\": \"Turkey\",\n",
    "                \"interactions\": 181000,\n",
    "                \"unique_authors\": 136700\n",
    "            },\n",
    "            {\n",
    "                \"key\": \"United Kingdom\",\n",
    "                \"interactions\": 172800,\n",
    "                \"unique_authors\": 128400\n",
    "            },\n",
    "            {\n",
    "                \"key\": \"Mexico\",\n",
    "                \"interactions\": 151200,\n",
    "                \"unique_authors\": 95000\n",
    "            },\n",
    "            {\n",
    "                \"key\": \"Germany\",\n",
    "                \"interactions\": 122000,\n",
    "                \"unique_authors\": 84800\n",
    "            }\n",
    "        ],\n",
    "        \"redacted\": false\n",
    "    }\n",
    "}'''\n",
    "\n",
    "fd_result = json.loads(fd_api_result)\n",
    "\n",
    "print fd_result"
   ]
  },
  {
   "cell_type": "markdown",
   "metadata": {},
   "source": [
    "Again, before you plot the chart make sure the analysis has not been redacted.\n",
    "\n",
    "Next, extract the data from the results array into a pandas dataframe.\n",
    "\n",
    "You can now plot the chart. Here we've sorted the results by the 'unique_authors' column to present the results in an intuitive order. We've also specified 'barh' for the type of plot as a horizontal bar chart displays nicely inside a workbook."
   ]
  },
  {
   "cell_type": "code",
   "execution_count": 4,
   "metadata": {
    "collapsed": false
   },
   "outputs": [
    {
     "data": {
      "image/png": "[encoded data removed]",
      "text/plain": [
       "<matplotlib.figure.Figure at 0x10b590a50>"
      ]
     },
     "metadata": {},
     "output_type": "display_data"
    }
   ],
   "source": [
    "# Check result is not redacted\n",
    "if not fd_result['analysis']['redacted']:\n",
    "\n",
    "    # Extract result data to dataframe\n",
    "    fd_df = pd.DataFrame.from_records(fd_result['analysis']['results'],index='key')\n",
    "    \n",
    "    # Sort the data and plot a chart\n",
    "    fd_df.sort(columns=['unique_authors']).plot(kind='barh',figsize=(14,6))"
   ]
  },
  {
   "cell_type": "markdown",
   "metadata": {},
   "source": [
    "# What next?\n",
    "\n",
    "Now you've learnt some basic charting skills take a look at the other examples in this repository, such as:\n",
    "* [Charting PYLON Nested Query Analysis Results](Charting PYLON Nested Query Analysis Results.ipynb)\n",
    "* [Charting PYLON Baselined Analysis Results](Charting PYLON Baselined Analysis Results.ipynb)"
   ]
  }
 ],
 "metadata": {
  "kernelspec": {
   "display_name": "Python 2",
   "language": "python",
   "name": "python2"
  },
  "language_info": {
   "codemirror_mode": {
    "name": "ipython",
    "version": 2
   },
   "file_extension": ".py",
   "mimetype": "text/x-python",
   "name": "python",
   "nbconvert_exporter": "python",
   "pygments_lexer": "ipython2",
   "version": "2.7.10"
  }
 },
 "nbformat": 4,
 "nbformat_minor": 0
}
